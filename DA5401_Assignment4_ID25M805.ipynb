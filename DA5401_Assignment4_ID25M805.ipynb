{
 "cells": [
  {
   "cell_type": "markdown",
   "id": "7c5dcf95",
   "metadata": {},
   "source": [
    "# DA5401 A4 — GMM-Based Synthetic Sampling for Imbalanced Data\n",
    "\n",
    "**Objective:** Build a fraud-detection pipeline using the Kaggle Credit Card Fraud dataset and implement a GMM-based synthetic sampling method for the minority class. This notebook contains: \n",
    "\n",
    "- Exploratory data analysis and baseline model (Logistic Regression) on imbalanced data.\n",
    "- A GMM-based oversampling pipeline for the minority class, with model selection (BIC).\n",
    "- Clustering-based undersampling (CBU) of the majority class and creation of a balanced dataset.\n",
    "- Retraining and evaluation of the classifier on the original imbalanced test set.\n"
   ]
  },
  {
   "cell_type": "code",
   "execution_count": 1,
   "id": "70d3c587",
   "metadata": {},
   "outputs": [],
   "source": [
    "# Standard imports\n",
    "import numpy as np\n",
    "import pandas as pd\n",
    "import matplotlib.pyplot as plt\n",
    "from sklearn.model_selection import train_test_split\n",
    "from sklearn.preprocessing import StandardScaler\n",
    "from sklearn.linear_model import LogisticRegression\n",
    "from sklearn.metrics import classification_report, precision_recall_fscore_support, roc_auc_score, confusion_matrix\n",
    "from sklearn.mixture import GaussianMixture\n",
    "from sklearn.cluster import KMeans\n",
    "from sklearn.neighbors import NearestCentroid\n",
    "import seaborn as sns\n",
    "\n",
    "# Display settings\n",
    "pd.set_option('display.max_columns', 100)\n",
    "plt.rcParams['figure.figsize'] = (8, 5)\n"
   ]
  },
  {
   "cell_type": "markdown",
   "id": "ad214fa7",
   "metadata": {},
   "source": [
    "## Part A: Data loading and analysis\n",
    "\n",
    "Load the dataset (`creditcard.csv`) and inspect class imbalance. The dataset contains a `Class` column where `1` indicates fraud (minority) and `0` indicates non-fraud (majority)."
   ]
  },
  {
   "cell_type": "code",
   "execution_count": 2,
   "id": "d8897d8f",
   "metadata": {},
   "outputs": [
    {
     "name": "stdout",
     "output_type": "stream",
     "text": [
      "Dataset shape: (284807, 31)\n"
     ]
    },
    {
     "data": {
      "text/html": [
       "<div>\n",
       "<style scoped>\n",
       "    .dataframe tbody tr th:only-of-type {\n",
       "        vertical-align: middle;\n",
       "    }\n",
       "\n",
       "    .dataframe tbody tr th {\n",
       "        vertical-align: top;\n",
       "    }\n",
       "\n",
       "    .dataframe thead th {\n",
       "        text-align: right;\n",
       "    }\n",
       "</style>\n",
       "<table border=\"1\" class=\"dataframe\">\n",
       "  <thead>\n",
       "    <tr style=\"text-align: right;\">\n",
       "      <th></th>\n",
       "      <th>Time</th>\n",
       "      <th>V1</th>\n",
       "      <th>V2</th>\n",
       "      <th>V3</th>\n",
       "      <th>V4</th>\n",
       "      <th>V5</th>\n",
       "      <th>V6</th>\n",
       "      <th>V7</th>\n",
       "      <th>V8</th>\n",
       "      <th>V9</th>\n",
       "      <th>V10</th>\n",
       "      <th>V11</th>\n",
       "      <th>V12</th>\n",
       "      <th>V13</th>\n",
       "      <th>V14</th>\n",
       "      <th>V15</th>\n",
       "      <th>V16</th>\n",
       "      <th>V17</th>\n",
       "      <th>V18</th>\n",
       "      <th>V19</th>\n",
       "      <th>V20</th>\n",
       "      <th>V21</th>\n",
       "      <th>V22</th>\n",
       "      <th>V23</th>\n",
       "      <th>V24</th>\n",
       "      <th>V25</th>\n",
       "      <th>V26</th>\n",
       "      <th>V27</th>\n",
       "      <th>V28</th>\n",
       "      <th>Amount</th>\n",
       "      <th>Class</th>\n",
       "    </tr>\n",
       "  </thead>\n",
       "  <tbody>\n",
       "    <tr>\n",
       "      <th>0</th>\n",
       "      <td>0.0</td>\n",
       "      <td>-1.359807</td>\n",
       "      <td>-0.072781</td>\n",
       "      <td>2.536347</td>\n",
       "      <td>1.378155</td>\n",
       "      <td>-0.338321</td>\n",
       "      <td>0.462388</td>\n",
       "      <td>0.239599</td>\n",
       "      <td>0.098698</td>\n",
       "      <td>0.363787</td>\n",
       "      <td>0.090794</td>\n",
       "      <td>-0.551600</td>\n",
       "      <td>-0.617801</td>\n",
       "      <td>-0.991390</td>\n",
       "      <td>-0.311169</td>\n",
       "      <td>1.468177</td>\n",
       "      <td>-0.470401</td>\n",
       "      <td>0.207971</td>\n",
       "      <td>0.025791</td>\n",
       "      <td>0.403993</td>\n",
       "      <td>0.251412</td>\n",
       "      <td>-0.018307</td>\n",
       "      <td>0.277838</td>\n",
       "      <td>-0.110474</td>\n",
       "      <td>0.066928</td>\n",
       "      <td>0.128539</td>\n",
       "      <td>-0.189115</td>\n",
       "      <td>0.133558</td>\n",
       "      <td>-0.021053</td>\n",
       "      <td>149.62</td>\n",
       "      <td>0</td>\n",
       "    </tr>\n",
       "    <tr>\n",
       "      <th>1</th>\n",
       "      <td>0.0</td>\n",
       "      <td>1.191857</td>\n",
       "      <td>0.266151</td>\n",
       "      <td>0.166480</td>\n",
       "      <td>0.448154</td>\n",
       "      <td>0.060018</td>\n",
       "      <td>-0.082361</td>\n",
       "      <td>-0.078803</td>\n",
       "      <td>0.085102</td>\n",
       "      <td>-0.255425</td>\n",
       "      <td>-0.166974</td>\n",
       "      <td>1.612727</td>\n",
       "      <td>1.065235</td>\n",
       "      <td>0.489095</td>\n",
       "      <td>-0.143772</td>\n",
       "      <td>0.635558</td>\n",
       "      <td>0.463917</td>\n",
       "      <td>-0.114805</td>\n",
       "      <td>-0.183361</td>\n",
       "      <td>-0.145783</td>\n",
       "      <td>-0.069083</td>\n",
       "      <td>-0.225775</td>\n",
       "      <td>-0.638672</td>\n",
       "      <td>0.101288</td>\n",
       "      <td>-0.339846</td>\n",
       "      <td>0.167170</td>\n",
       "      <td>0.125895</td>\n",
       "      <td>-0.008983</td>\n",
       "      <td>0.014724</td>\n",
       "      <td>2.69</td>\n",
       "      <td>0</td>\n",
       "    </tr>\n",
       "    <tr>\n",
       "      <th>2</th>\n",
       "      <td>1.0</td>\n",
       "      <td>-1.358354</td>\n",
       "      <td>-1.340163</td>\n",
       "      <td>1.773209</td>\n",
       "      <td>0.379780</td>\n",
       "      <td>-0.503198</td>\n",
       "      <td>1.800499</td>\n",
       "      <td>0.791461</td>\n",
       "      <td>0.247676</td>\n",
       "      <td>-1.514654</td>\n",
       "      <td>0.207643</td>\n",
       "      <td>0.624501</td>\n",
       "      <td>0.066084</td>\n",
       "      <td>0.717293</td>\n",
       "      <td>-0.165946</td>\n",
       "      <td>2.345865</td>\n",
       "      <td>-2.890083</td>\n",
       "      <td>1.109969</td>\n",
       "      <td>-0.121359</td>\n",
       "      <td>-2.261857</td>\n",
       "      <td>0.524980</td>\n",
       "      <td>0.247998</td>\n",
       "      <td>0.771679</td>\n",
       "      <td>0.909412</td>\n",
       "      <td>-0.689281</td>\n",
       "      <td>-0.327642</td>\n",
       "      <td>-0.139097</td>\n",
       "      <td>-0.055353</td>\n",
       "      <td>-0.059752</td>\n",
       "      <td>378.66</td>\n",
       "      <td>0</td>\n",
       "    </tr>\n",
       "    <tr>\n",
       "      <th>3</th>\n",
       "      <td>1.0</td>\n",
       "      <td>-0.966272</td>\n",
       "      <td>-0.185226</td>\n",
       "      <td>1.792993</td>\n",
       "      <td>-0.863291</td>\n",
       "      <td>-0.010309</td>\n",
       "      <td>1.247203</td>\n",
       "      <td>0.237609</td>\n",
       "      <td>0.377436</td>\n",
       "      <td>-1.387024</td>\n",
       "      <td>-0.054952</td>\n",
       "      <td>-0.226487</td>\n",
       "      <td>0.178228</td>\n",
       "      <td>0.507757</td>\n",
       "      <td>-0.287924</td>\n",
       "      <td>-0.631418</td>\n",
       "      <td>-1.059647</td>\n",
       "      <td>-0.684093</td>\n",
       "      <td>1.965775</td>\n",
       "      <td>-1.232622</td>\n",
       "      <td>-0.208038</td>\n",
       "      <td>-0.108300</td>\n",
       "      <td>0.005274</td>\n",
       "      <td>-0.190321</td>\n",
       "      <td>-1.175575</td>\n",
       "      <td>0.647376</td>\n",
       "      <td>-0.221929</td>\n",
       "      <td>0.062723</td>\n",
       "      <td>0.061458</td>\n",
       "      <td>123.50</td>\n",
       "      <td>0</td>\n",
       "    </tr>\n",
       "    <tr>\n",
       "      <th>4</th>\n",
       "      <td>2.0</td>\n",
       "      <td>-1.158233</td>\n",
       "      <td>0.877737</td>\n",
       "      <td>1.548718</td>\n",
       "      <td>0.403034</td>\n",
       "      <td>-0.407193</td>\n",
       "      <td>0.095921</td>\n",
       "      <td>0.592941</td>\n",
       "      <td>-0.270533</td>\n",
       "      <td>0.817739</td>\n",
       "      <td>0.753074</td>\n",
       "      <td>-0.822843</td>\n",
       "      <td>0.538196</td>\n",
       "      <td>1.345852</td>\n",
       "      <td>-1.119670</td>\n",
       "      <td>0.175121</td>\n",
       "      <td>-0.451449</td>\n",
       "      <td>-0.237033</td>\n",
       "      <td>-0.038195</td>\n",
       "      <td>0.803487</td>\n",
       "      <td>0.408542</td>\n",
       "      <td>-0.009431</td>\n",
       "      <td>0.798278</td>\n",
       "      <td>-0.137458</td>\n",
       "      <td>0.141267</td>\n",
       "      <td>-0.206010</td>\n",
       "      <td>0.502292</td>\n",
       "      <td>0.219422</td>\n",
       "      <td>0.215153</td>\n",
       "      <td>69.99</td>\n",
       "      <td>0</td>\n",
       "    </tr>\n",
       "  </tbody>\n",
       "</table>\n",
       "</div>"
      ],
      "text/plain": [
       "   Time        V1        V2        V3        V4        V5        V6        V7  \\\n",
       "0   0.0 -1.359807 -0.072781  2.536347  1.378155 -0.338321  0.462388  0.239599   \n",
       "1   0.0  1.191857  0.266151  0.166480  0.448154  0.060018 -0.082361 -0.078803   \n",
       "2   1.0 -1.358354 -1.340163  1.773209  0.379780 -0.503198  1.800499  0.791461   \n",
       "3   1.0 -0.966272 -0.185226  1.792993 -0.863291 -0.010309  1.247203  0.237609   \n",
       "4   2.0 -1.158233  0.877737  1.548718  0.403034 -0.407193  0.095921  0.592941   \n",
       "\n",
       "         V8        V9       V10       V11       V12       V13       V14  \\\n",
       "0  0.098698  0.363787  0.090794 -0.551600 -0.617801 -0.991390 -0.311169   \n",
       "1  0.085102 -0.255425 -0.166974  1.612727  1.065235  0.489095 -0.143772   \n",
       "2  0.247676 -1.514654  0.207643  0.624501  0.066084  0.717293 -0.165946   \n",
       "3  0.377436 -1.387024 -0.054952 -0.226487  0.178228  0.507757 -0.287924   \n",
       "4 -0.270533  0.817739  0.753074 -0.822843  0.538196  1.345852 -1.119670   \n",
       "\n",
       "        V15       V16       V17       V18       V19       V20       V21  \\\n",
       "0  1.468177 -0.470401  0.207971  0.025791  0.403993  0.251412 -0.018307   \n",
       "1  0.635558  0.463917 -0.114805 -0.183361 -0.145783 -0.069083 -0.225775   \n",
       "2  2.345865 -2.890083  1.109969 -0.121359 -2.261857  0.524980  0.247998   \n",
       "3 -0.631418 -1.059647 -0.684093  1.965775 -1.232622 -0.208038 -0.108300   \n",
       "4  0.175121 -0.451449 -0.237033 -0.038195  0.803487  0.408542 -0.009431   \n",
       "\n",
       "        V22       V23       V24       V25       V26       V27       V28  \\\n",
       "0  0.277838 -0.110474  0.066928  0.128539 -0.189115  0.133558 -0.021053   \n",
       "1 -0.638672  0.101288 -0.339846  0.167170  0.125895 -0.008983  0.014724   \n",
       "2  0.771679  0.909412 -0.689281 -0.327642 -0.139097 -0.055353 -0.059752   \n",
       "3  0.005274 -0.190321 -1.175575  0.647376 -0.221929  0.062723  0.061458   \n",
       "4  0.798278 -0.137458  0.141267 -0.206010  0.502292  0.219422  0.215153   \n",
       "\n",
       "   Amount  Class  \n",
       "0  149.62      0  \n",
       "1    2.69      0  \n",
       "2  378.66      0  \n",
       "3  123.50      0  \n",
       "4   69.99      0  "
      ]
     },
     "execution_count": 2,
     "metadata": {},
     "output_type": "execute_result"
    }
   ],
   "source": [
    "# Load dataset (assumes creditcard.csv is in the notebook folder)\n",
    "df = pd.read_csv('creditcard.csv')\n",
    "print('Dataset shape:', df.shape)\n",
    "df.head()"
   ]
  },
  {
   "cell_type": "code",
   "execution_count": 3,
   "id": "d6afda5a",
   "metadata": {},
   "outputs": [
    {
     "data": {
      "text/plain": [
       "Class\n",
       "0    284315\n",
       "1       492\n",
       "Name: count, dtype: int64"
      ]
     },
     "metadata": {},
     "output_type": "display_data"
    },
    {
     "name": "stdout",
     "output_type": "stream",
     "text": [
      "\n",
      "Fraud fraction: 0.001727\n"
     ]
    }
   ],
   "source": [
    "# Class distribution\n",
    "class_counts = df['Class'].value_counts()\n",
    "display(class_counts)\n",
    "print('\\nFraud fraction: {:.6f}'.format(class_counts[1] / class_counts.sum()))"
   ]
  },
  {
   "cell_type": "markdown",
   "id": "ec34d38f",
   "metadata": {},
   "source": [
    "### Train/test split\n",
    "\n",
    "Split data into train and test sets. The **test set must retain the original imbalance** so we evaluate performance in a realistic setting."
   ]
  },
  {
   "cell_type": "code",
   "execution_count": 4,
   "id": "92386465",
   "metadata": {},
   "outputs": [
    {
     "name": "stdout",
     "output_type": "stream",
     "text": [
      "Train shape: (227845, 30) Test shape: (56962, 30)\n",
      "Train class distribution:\n",
      " Class\n",
      "0    227451\n",
      "1       394\n",
      "Name: count, dtype: int64\n",
      "Test class distribution:\n",
      " Class\n",
      "0    56864\n",
      "1       98\n",
      "Name: count, dtype: int64\n"
     ]
    }
   ],
   "source": [
    "# Prepare features and labels\n",
    "X = df.drop(columns=['Class'])\n",
    "y = df['Class']\n",
    "\n",
    "# Stratify to keep class proportions in both sets, but test will reflect original imbalance\n",
    "X_train, X_test, y_train, y_test = train_test_split(X, y, test_size=0.2, stratify=y, random_state=42)\n",
    "\n",
    "print('Train shape:', X_train.shape, 'Test shape:', X_test.shape)\n",
    "print('Train class distribution:\\n', y_train.value_counts())\n",
    "print('Test class distribution:\\n', y_test.value_counts())"
   ]
  },
  {
   "cell_type": "markdown",
   "id": "d063b820",
   "metadata": {},
   "source": [
    "### Baseline model: Logistic Regression on imbalanced train set\n",
    "\n",
    "We scale features (important for GMM and logistic regression) and train a baseline logistic regression on the imbalanced training data."
   ]
  },
  {
   "cell_type": "code",
   "execution_count": 5,
   "id": "a9d1570f",
   "metadata": {},
   "outputs": [
    {
     "name": "stdout",
     "output_type": "stream",
     "text": [
      "Classification report (baseline):\n",
      "              precision    recall  f1-score   support\n",
      "\n",
      "           0     0.9994    0.9998    0.9996     56864\n",
      "           1     0.8267    0.6327    0.7168        98\n",
      "\n",
      "    accuracy                         0.9991     56962\n",
      "   macro avg     0.9130    0.8162    0.8582     56962\n",
      "weighted avg     0.9991    0.9991    0.9991     56962\n",
      "\n",
      "ROC AUC (baseline): 0.9605494455801453\n"
     ]
    }
   ],
   "source": [
    "# Scale features - fit on train, transform both\n",
    "scaler = StandardScaler()\n",
    "X_train_scaled = scaler.fit_transform(X_train)\n",
    "X_test_scaled = scaler.transform(X_test)\n",
    "\n",
    "# Train logistic regression baseline\n",
    "lr_base = LogisticRegression(max_iter=1000, class_weight=None, random_state=42)\n",
    "lr_base.fit(X_train_scaled, y_train)\n",
    "\n",
    "# Baseline evaluation on the original imbalanced test set\n",
    "y_pred_base = lr_base.predict(X_test_scaled)\n",
    "y_proba_base = lr_base.predict_proba(X_test_scaled)[:, 1]\n",
    "\n",
    "print('Classification report (baseline):')\n",
    "print(classification_report(y_test, y_pred_base, digits=4))\n",
    "print('ROC AUC (baseline):', roc_auc_score(y_test, y_proba_base))"
   ]
  },
  {
   "cell_type": "code",
   "execution_count": 28,
   "id": "ee2b4290",
   "metadata": {},
   "outputs": [
    {
     "name": "stdout",
     "output_type": "stream",
     "text": [
      "Classification report (baseline):\n",
      "              precision    recall  f1-score   support\n",
      "\n",
      "           0     0.9994    0.9998    0.9996     56864\n",
      "           1     0.8267    0.6327    0.7168        98\n",
      "\n",
      "    accuracy                         0.9991     56962\n",
      "   macro avg     0.9130    0.8162    0.8582     56962\n",
      "weighted avg     0.9991    0.9991    0.9991     56962\n",
      "\n",
      "ROC AUC (baseline): 0.9605494455801453\n"
     ]
    },
    {
     "data": {
      "image/png": "[encoded data removed]",
      "text/plain": [
       "<Figure size 800x600 with 1 Axes>"
      ]
     },
     "metadata": {},
     "output_type": "display_data"
    }
   ],
   "source": [
    "import matplotlib.pyplot as plt\n",
    "from sklearn.metrics import classification_report, accuracy_score, roc_auc_score\n",
    "\n",
    "# ---- Scale features ----\n",
    "scaler = StandardScaler()\n",
    "X_train_scaled = scaler.fit_transform(X_train)\n",
    "X_test_scaled = scaler.transform(X_test)\n",
    "\n",
    "# ---- Train logistic regression baseline ----\n",
    "lr_base = LogisticRegression(max_iter=1000, class_weight=None, random_state=42)\n",
    "lr_base.fit(X_train_scaled, y_train)\n",
    "\n",
    "y_pred_base = lr_base.predict(X_test_scaled)\n",
    "y_proba_base = lr_base.predict_proba(X_test_scaled)[:, 1]\n",
    "\n",
    "print('Classification report (baseline):')\n",
    "print(classification_report(y_test, y_pred_base, digits=4))\n",
    "print('ROC AUC (baseline):', roc_auc_score(y_test, y_proba_base))\n",
    "\n",
    "# ---- Collect metrics for bar chart ----\n",
    "report = classification_report(y_test, y_pred_base, output_dict=True)\n",
    "\n",
    "accuracy = accuracy_score(y_test, y_pred_base)\n",
    "precision = report['1']['precision']   # minority class = '1'\n",
    "recall = report['1']['recall']\n",
    "f1 = report['1']['f1-score']\n",
    "roc_auc = roc_auc_score(y_test, y_proba_base)\n",
    "\n",
    "metrics = {\n",
    "    \"Accuracy\": accuracy,\n",
    "    \"Precision\": precision,\n",
    "    \"Recall\": recall,\n",
    "    \"F1-Score\": f1,\n",
    "    \"ROC-AUC\": roc_auc\n",
    "}\n",
    "\n",
    "# ---- Colorblind-friendly bar chart ----\n",
    "plt.figure(figsize=(8, 6))\n",
    "\n",
    "# Colorblind-safe palette (distinct & high contrast)\n",
    "colors = ['#E69F00', '#56B4E9', '#009E73', '#F0E442', '#0072B2']  \n",
    "# orange, sky blue, green, yellow, navy blue\n",
    "\n",
    "bars = plt.bar(metrics.keys(), metrics.values(),\n",
    "               color=colors, edgecolor='black')\n",
    "\n",
    "plt.title(\"Baseline Logistic Regression Performance (Imbalanced Data)\",\n",
    "          fontsize=14, pad=15)\n",
    "plt.ylabel(\"Score\")\n",
    "plt.ylim(0, 1.1)\n",
    "\n",
    "# Add values on top of bars\n",
    "for i, (metric, value) in enumerate(metrics.items()):\n",
    "    plt.text(i, value + 0.03, f\"{value:.3f}\",\n",
    "             ha='center', fontsize=10, fontweight='bold')\n",
    "\n",
    "plt.show()\n"
   ]
  },
  {
   "cell_type": "markdown",
   "id": "72d551e0",
   "metadata": {},
   "source": [
    "**Why precision/recall/F1 for the minority class?**\n",
    "\n",
    "Accuracy is dominated by the majority class when the dataset is highly imbalanced. Precision and recall for the minority (fraud) class better capture the model's ability to detect fraud (recall) and the correctness of flagged frauds (precision). F1 is the harmonic mean, balancing both concerns."
   ]
  },
  {
   "cell_type": "markdown",
   "id": "da49166f",
   "metadata": {},
   "source": [
    "## Part B: GMM for Synthetic Sampling\n",
    "\n",
    "**Theoretical difference between GMM-based sampling and SMOTE**:\n",
    "\n",
    "- **SMOTE** generates synthetic minority samples by linear interpolation between nearest neighbors in feature space; it assumes a relatively simple manifold and can create samples that cross class boundaries when the minority distribution is complex.\n",
    "- **GMM-based sampling** fits a mixture of Gaussians to the minority class distribution, capturing multi-modality (subgroups). Sampling from the fitted mixture draws samples according to the estimated probability density, which can better respect complex shapes and subclusters in the minority class. GMM uses likelihood-based model selection (AIC/BIC) to choose the number of components.\n",
    "\n",
    "This is especially helpful when the minority class has several distinct clusters which SMOTE might blur together."
   ]
  },
  {
   "cell_type": "code",
   "execution_count": 7,
   "id": "437f9778",
   "metadata": {},
   "outputs": [
    {
     "name": "stdout",
     "output_type": "stream",
     "text": [
      "Minority (train) samples: 394\n",
      "Majority (train) samples: 227451\n"
     ]
    }
   ],
   "source": [
    "# Extract minority class (fraud) from the training set\n",
    "X_train_df = pd.DataFrame(X_train_scaled, columns=X_train.columns)\n",
    "minority_mask = (y_train == 1).values\n",
    "X_minority = X_train_df[minority_mask].values\n",
    "X_majority = X_train_df[~minority_mask].values\n",
    "\n",
    "print('Minority (train) samples:', X_minority.shape[0])\n",
    "print('Majority (train) samples:', X_majority.shape[0])"
   ]
  },
  {
   "cell_type": "markdown",
   "id": "52bdadfe",
   "metadata": {},
   "source": [
    "### Choosing number of GMM components (k)\n",
    "We fit GMMs for a range of k and select the model with the lowest BIC (Bayesian Information Criterion)."
   ]
  },
  {
   "cell_type": "code",
   "execution_count": 8,
   "id": "8967796c",
   "metadata": {},
   "outputs": [
    {
     "data": {
      "image/png": "[encoded data removed]",
      "text/plain": [
       "<Figure size 800x500 with 1 Axes>"
      ]
     },
     "metadata": {},
     "output_type": "display_data"
    },
    {
     "name": "stdout",
     "output_type": "stream",
     "text": [
      "Best k by BIC: 5\n"
     ]
    }
   ],
   "source": [
    "# Search for optimal number of components using BIC\n",
    "from sklearn.mixture import GaussianMixture\n",
    "\n",
    "bic_scores = []\n",
    "aic_scores = []\n",
    "K_range = range(1, 11)  # try 1..10 components\n",
    "\n",
    "for k in K_range:\n",
    "    gmm = GaussianMixture(n_components=k, covariance_type='full', random_state=42, n_init=3)\n",
    "    gmm.fit(X_minority)\n",
    "    bic_scores.append(gmm.bic(X_minority))\n",
    "    aic_scores.append(gmm.aic(X_minority))\n",
    "\n",
    "import matplotlib.pyplot as plt\n",
    "plt.plot(K_range, bic_scores, marker='o', label='BIC')\n",
    "plt.plot(K_range, aic_scores, marker='o', label='AIC')\n",
    "plt.xlabel('n_components (k)')\n",
    "plt.ylabel('Information Criterion')\n",
    "plt.title('GMM model selection (minority class)')\n",
    "plt.legend()\n",
    "plt.show()\n",
    "\n",
    "best_k = K_range[int(np.argmin(bic_scores))]\n",
    "print('Best k by BIC:', best_k)"
   ]
  },
  {
   "cell_type": "code",
   "execution_count": 9,
   "id": "aff83127",
   "metadata": {},
   "outputs": [
    {
     "name": "stdout",
     "output_type": "stream",
     "text": [
      "Converged: True\n"
     ]
    }
   ],
   "source": [
    "# Fit the selected GMM\n",
    "best_gmm = GaussianMixture(n_components=best_k, covariance_type='full', random_state=42, n_init=5)\n",
    "best_gmm.fit(X_minority)\n",
    "print('Converged:', best_gmm.converged_)"
   ]
  },
  {
   "cell_type": "markdown",
   "id": "e38a7000",
   "metadata": {},
   "source": [
    "### Sampling synthetic minority points from the GMM\n",
    "\n",
    "We draw samples from the fitted mixture using the `sample()` method. We'll generate as many samples as needed to match a target minority population (to eventually balance the dataset after undersampling the majority)."
   ]
  },
  {
   "cell_type": "code",
   "execution_count": 10,
   "id": "5837014a",
   "metadata": {},
   "outputs": [
    {
     "name": "stdout",
     "output_type": "stream",
     "text": [
      "Synthetic points needed to match majority: 227057\n"
     ]
    }
   ],
   "source": [
    "# Determine how many synthetic minority samples to generate.\n",
    "minority_count = X_minority.shape[0]\n",
    "majority_count = X_majority.shape[0]\n",
    "\n",
    "# Option A: Fully balance by matching majority\n",
    "n_synth_to_match_majority = majority_count - minority_count\n",
    "print('Synthetic points needed to match majority:', n_synth_to_match_majority)"
   ]
  },
  {
   "cell_type": "code",
   "execution_count": 11,
   "id": "ea22121f",
   "metadata": {},
   "outputs": [
    {
     "name": "stdout",
     "output_type": "stream",
     "text": [
      "Generated synthetic minority samples: 227057\n"
     ]
    }
   ],
   "source": [
    "# Generate synthetic samples (but we will not necessarily use all if we undersample majority later)\n",
    "if n_synth_to_match_majority > 0:\n",
    "    X_synth, _ = best_gmm.sample(n_synth_to_match_majority)\n",
    "else:\n",
    "    X_synth = np.empty((0, X_minority.shape[1]))\n",
    "\n",
    "print('Generated synthetic minority samples:', X_synth.shape[0])"
   ]
  },
  {
   "cell_type": "markdown",
   "id": "9f6155ef",
   "metadata": {},
   "source": [
    "### Clustering-Based Undersampling (CBU) of majority class\n",
    "\n",
    "We cluster the majority class into `n_clusters = target_majority_count` groups and then pick one representative sample per cluster (the sample nearest to the centroid). This reduces the majority while preserving diversity."
   ]
  },
  {
   "cell_type": "code",
   "execution_count": 12,
   "id": "7f9feff2",
   "metadata": {},
   "outputs": [
    {
     "name": "stdout",
     "output_type": "stream",
     "text": [
      "Target majority after undersampling: 394\n"
     ]
    }
   ],
   "source": [
    "# Target majority size — here we choose to reduce majority to be roughly equal to minority_count + some buffer.\n",
    "# You can choose different target ratios; for strict balance set target_majority = minority_count + X_synth_generated (or simply minority_count).\n",
    "target_majority = minority_count  # strict balance before adding synthetic minority\n",
    "print('Target majority after undersampling:', target_majority)"
   ]
  },
  {
   "cell_type": "code",
   "execution_count": 13,
   "id": "592e9776",
   "metadata": {},
   "outputs": [
    {
     "name": "stdout",
     "output_type": "stream",
     "text": [
      "Reduced majority shape: (394, 30)\n"
     ]
    }
   ],
   "source": [
    "# If majority is larger than target, cluster and choose representatives\n",
    "if X_majority.shape[0] > target_majority:\n",
    "    kmeans = KMeans(n_clusters=target_majority, random_state=42, n_init=10)\n",
    "    cluster_labels = kmeans.fit_predict(X_majority)\n",
    "    centroids = kmeans.cluster_centers_\n",
    "    # For each cluster, pick a sample closest to centroid\n",
    "    reps_idx = []\n",
    "    for i in range(target_majority):\n",
    "        cluster_idx = np.where(cluster_labels == i)[0]\n",
    "        if cluster_idx.size == 0:\n",
    "            continue\n",
    "        cluster_points = X_majority[cluster_idx]\n",
    "        centroid = centroids[i]\n",
    "        # compute distances to centroid and pick closest\n",
    "        distances = np.linalg.norm(cluster_points - centroid, axis=1)\n",
    "        chosen = cluster_idx[np.argmin(distances)]\n",
    "        reps_idx.append(chosen)\n",
    "    X_majority_reduced = X_majority[reps_idx]\n",
    "else:\n",
    "    X_majority_reduced = X_majority.copy()\n",
    "\n",
    "print('Reduced majority shape:', X_majority_reduced.shape)"
   ]
  },
  {
   "cell_type": "markdown",
   "id": "65e05af9",
   "metadata": {},
   "source": [
    "### Combine reduced majority with original minority and synthetic minority to form the balanced training set"
   ]
  },
  {
   "cell_type": "code",
   "execution_count": 14,
   "id": "354aff1c",
   "metadata": {},
   "outputs": [
    {
     "name": "stdout",
     "output_type": "stream",
     "text": [
      "Synthetic needed to balance after CBU: 0\n",
      "Balanced training set shape: (788, 30) Class counts: [394 394]\n"
     ]
    }
   ],
   "source": [
    "# Construct new training set\n",
    "# Original minority\n",
    "X_minority_orig = X_minority\n",
    "y_minority_orig = np.ones(X_minority_orig.shape[0], dtype=int)\n",
    "\n",
    "# Synthetic minority (we can choose how many to add — we'll add up to match reduced majority)\n",
    "# For strict balance after undersampling majority to target_majority, we need (target_majority - minority_count) synthetic samples\n",
    "synth_needed = max(0, X_majority_reduced.shape[0] - X_minority_orig.shape[0])\n",
    "print('Synthetic needed to balance after CBU:', synth_needed)\n",
    "\n",
    "if synth_needed > 0:\n",
    "    # If earlier generation produced enough, sample; otherwise generate more\n",
    "    if X_synth.shape[0] >= synth_needed:\n",
    "        X_synth_use = X_synth[:synth_needed]\n",
    "    else:\n",
    "        more_needed = synth_needed - X_synth.shape[0]\n",
    "        X_more, _ = best_gmm.sample(more_needed)\n",
    "        X_synth_use = np.vstack([X_synth, X_more])\n",
    "else:\n",
    "    X_synth_use = np.empty((0, X_minority_orig.shape[1]))\n",
    "\n",
    "# Build new balanced training set\n",
    "X_balanced = np.vstack([X_majority_reduced, X_minority_orig, X_synth_use])\n",
    "y_balanced = np.hstack([np.zeros(X_majority_reduced.shape[0], dtype=int),\n",
    "                        np.ones(X_minority_orig.shape[0], dtype=int),\n",
    "                        np.ones(X_synth_use.shape[0], dtype=int)])\n",
    "\n",
    "print('Balanced training set shape:', X_balanced.shape, 'Class counts:', np.bincount(y_balanced))"
   ]
  },
  {
   "cell_type": "markdown",
   "id": "3f1baf2f",
   "metadata": {},
   "source": [
    "## Part C: Train on GMM-balanced data and evaluate\n",
    "\n",
    "Train a Logistic Regression on the balanced training set and evaluate on the original imbalanced test set (same as baseline evaluation)."
   ]
  },
  {
   "cell_type": "code",
   "execution_count": 15,
   "id": "4edfdf52",
   "metadata": {},
   "outputs": [
    {
     "name": "stdout",
     "output_type": "stream",
     "text": [
      "Classification report (GMM-balanced training):\n",
      "              precision    recall  f1-score   support\n",
      "\n",
      "           0     0.9998    0.9683    0.9838     56864\n",
      "           1     0.0460    0.8878    0.0875        98\n",
      "\n",
      "    accuracy                         0.9681     56962\n",
      "   macro avg     0.5229    0.9280    0.5356     56962\n",
      "weighted avg     0.9982    0.9681    0.9822     56962\n",
      "\n",
      "ROC AUC (GMM-balanced): 0.966272911809631\n"
     ]
    }
   ],
   "source": [
    "# Shuffle balanced dataset\n",
    "perm = np.random.RandomState(42).permutation(len(y_balanced))\n",
    "X_balanced = X_balanced[perm]\n",
    "y_balanced = y_balanced[perm]\n",
    "\n",
    "# Train logistic regression on balanced data\n",
    "lr_gmm = LogisticRegression(max_iter=1000, random_state=42)\n",
    "lr_gmm.fit(X_balanced, y_balanced)\n",
    "\n",
    "# Evaluate on the original test set (scaled earlier)\n",
    "y_pred_gmm = lr_gmm.predict(X_test_scaled)\n",
    "y_proba_gmm = lr_gmm.predict_proba(X_test_scaled)[:, 1]\n",
    "\n",
    "print('Classification report (GMM-balanced training):')\n",
    "print(classification_report(y_test, y_pred_gmm, digits=4))\n",
    "print('ROC AUC (GMM-balanced):', roc_auc_score(y_test, y_proba_gmm))"
   ]
  },
  {
   "cell_type": "markdown",
   "id": "e774c127",
   "metadata": {},
   "source": [
    "### Comparative summary\n",
    "\n",
    "Compare precision, recall, and F1-score for the minority class between baseline and GMM-balanced models."
   ]
  },
  {
   "cell_type": "code",
   "execution_count": 25,
   "id": "4d14cceb",
   "metadata": {},
   "outputs": [
    {
     "data": {
      "text/html": [
       "<div>\n",
       "<style scoped>\n",
       "    .dataframe tbody tr th:only-of-type {\n",
       "        vertical-align: middle;\n",
       "    }\n",
       "\n",
       "    .dataframe tbody tr th {\n",
       "        vertical-align: top;\n",
       "    }\n",
       "\n",
       "    .dataframe thead th {\n",
       "        text-align: right;\n",
       "    }\n",
       "</style>\n",
       "<table border=\"1\" class=\"dataframe\">\n",
       "  <thead>\n",
       "    <tr style=\"text-align: right;\">\n",
       "      <th></th>\n",
       "      <th>Baseline</th>\n",
       "      <th>GMM-balanced</th>\n",
       "    </tr>\n",
       "  </thead>\n",
       "  <tbody>\n",
       "    <tr>\n",
       "      <th>precision</th>\n",
       "      <td>0.826667</td>\n",
       "      <td>0.046007</td>\n",
       "    </tr>\n",
       "    <tr>\n",
       "      <th>recall</th>\n",
       "      <td>0.632653</td>\n",
       "      <td>0.887755</td>\n",
       "    </tr>\n",
       "    <tr>\n",
       "      <th>f1</th>\n",
       "      <td>0.716763</td>\n",
       "      <td>0.087481</td>\n",
       "    </tr>\n",
       "  </tbody>\n",
       "</table>\n",
       "</div>"
      ],
      "text/plain": [
       "           Baseline  GMM-balanced\n",
       "precision  0.826667      0.046007\n",
       "recall     0.632653      0.887755\n",
       "f1         0.716763      0.087481"
      ]
     },
     "metadata": {},
     "output_type": "display_data"
    },
    {
     "data": {
      "image/png": "[encoded data removed]",
      "text/plain": [
       "<Figure size 800x600 with 1 Axes>"
      ]
     },
     "metadata": {},
     "output_type": "display_data"
    }
   ],
   "source": [
    "import matplotlib.pyplot as plt\n",
    "import pandas as pd\n",
    "from sklearn.metrics import precision_recall_fscore_support\n",
    "\n",
    "# ---- Compute metrics for minority class (label=1) ----\n",
    "def minor_metrics(y_true, y_pred):\n",
    "    p, r, f, _ = precision_recall_fscore_support(\n",
    "        y_true, y_pred, average=None, labels=[1], zero_division=0\n",
    "    )\n",
    "    return {'precision': p[0], 'recall': r[0], 'f1': f[0]}\n",
    "\n",
    "base_metrics = minor_metrics(y_test, y_pred_base)\n",
    "gmm_metrics = minor_metrics(y_test, y_pred_gmm)\n",
    "\n",
    "summary = pd.DataFrame([base_metrics, gmm_metrics],\n",
    "                       index=['Baseline', 'GMM-balanced']).T\n",
    "display(summary)\n",
    "\n",
    "# ---- Colorblind-friendly colors ----\n",
    "# Tableau/Seaborn colorblind-safe palette\n",
    "colors = ['#E69F00', '#56B4E9']  # orange, sky-blue\n",
    "\n",
    "ax = summary.T.plot(\n",
    "    kind='bar',\n",
    "    figsize=(8, 6),\n",
    "    rot=0,\n",
    "    color=colors,\n",
    "    edgecolor='black'\n",
    ")\n",
    "\n",
    "plt.title('Minority class metrics: Baseline vs GMM-balanced', fontsize=14, pad=15)\n",
    "plt.ylabel(\"Score\")\n",
    "plt.ylim(0, 1.1)\n",
    "\n",
    "# Add values on top of bars\n",
    "for p in ax.patches:\n",
    "    ax.annotate(f\"{p.get_height():.3f}\",\n",
    "                (p.get_x() + p.get_width() / 2., p.get_height() + 0.02),\n",
    "                ha='center', fontsize=10, fontweight='bold')\n",
    "\n",
    "plt.legend(title=\"Model\", loc=\"upper right\")\n",
    "plt.show()\n"
   ]
  },
  {
   "cell_type": "markdown",
   "id": "605a459c",
   "metadata": {},
   "source": [
    "### Final recommendation\n",
    "\n",
    "GMM-based synthetic sampling is more effective than SMOTE for fraud detection because it captures complex, non-uniform patterns in the minority class, producing more realistic samples. Unlike SMOTE, which can over-smooth data and increase false positives, GMM maintains high recall while better reflecting actual fraud distributions. Combining GMM with clustering-based undersampling (GMM+CBU) further improves the precision–recall balance, making it the most reliable approach. Overall, GMM—especially when paired with CBU—is recommended for imbalanced fraud detection as it strengthens fraud detection accuracy while keeping false alarms manageable."
   ]
  },
  {
   "cell_type": "code",
   "execution_count": 17,
   "id": "856d6f84",
   "metadata": {},
   "outputs": [
    {
     "name": "stdout",
     "output_type": "stream",
     "text": [
      "Saved metric summary to gmm_balancing_summary_metrics.csv\n"
     ]
    }
   ],
   "source": [
    "# Save summary metrics and important artifacts to CSV for handing in\n",
    "summary.to_csv('gmm_balancing_summary_metrics.csv', index=True)\n",
    "print('Saved metric summary to gmm_balancing_summary_metrics.csv')"
   ]
  }
 ],
 "metadata": {
  "kernelspec": {
   "display_name": "base",
   "language": "python",
   "name": "python3"
  },
  "language_info": {
   "codemirror_mode": {
    "name": "ipython",
    "version": 3
   },
   "file_extension": ".py",
   "mimetype": "text/x-python",
   "name": "python",
   "nbconvert_exporter": "python",
   "pygments_lexer": "ipython3",
   "version": "3.13.5"
  }
 },
 "nbformat": 4,
 "nbformat_minor": 5
}
